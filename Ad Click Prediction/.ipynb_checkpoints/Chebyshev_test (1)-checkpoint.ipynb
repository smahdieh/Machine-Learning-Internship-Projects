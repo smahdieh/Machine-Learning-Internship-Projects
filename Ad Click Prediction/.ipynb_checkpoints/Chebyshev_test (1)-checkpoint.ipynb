{
 "cells": [
  {
   "cell_type": "code",
   "execution_count": 31,
   "id": "688cc8d1-d4ff-4ab4-8c41-c468b93b8f61",
   "metadata": {},
   "outputs": [],
   "source": [
    "import orsvm\n",
    "import pandas as pd\n",
    "import numpy as np\n",
    "from sklearn.model_selection import train_test_split\n",
    "\n",
    "dataset = pd.read_csv('/home/equanta/Downloads/Ad Click Prediction/Social_Network_Ads.csv')"
   ]
  },
  {
   "cell_type": "code",
   "execution_count": 32,
   "id": "940f7d9a-73c4-4be1-b998-a23c137c322f",
   "metadata": {},
   "outputs": [],
   "source": [
    "Gender = pd.get_dummies(dataset['Gender'], drop_first = True)\n",
    "dataset['Gender'] = Gender\n",
    "dataset.drop(['User ID'], axis= 1, inplace= True)\n",
    "dataset.loc[dataset.Purchased==0, ['Purchased']] = -1 \n"
   ]
  },
  {
   "cell_type": "code",
   "execution_count": 33,
   "id": "923a6049-6911-4dcc-af06-3a0a2039bfda",
   "metadata": {},
   "outputs": [],
   "source": [
    "X = dataset.iloc[:, :3]\n",
    "y = dataset['Purchased']\n",
    "\n",
    "\n"
   ]
  },
  {
   "cell_type": "code",
   "execution_count": 68,
   "id": "bdfc8236-3efb-4457-90dd-77b273831961",
   "metadata": {},
   "outputs": [],
   "source": [
    "X_train, X_test, y_train, y_test = train_test_split(X, y, test_size=0.8, random_state=42)\n",
    "\n",
    "X_train = X_train.to_numpy()\n",
    "X_test = X_test.to_numpy()\n",
    "y_test = y_test.to_numpy()\n",
    "y_train = y_train.to_numpy()\n"
   ]
  },
  {
   "cell_type": "code",
   "execution_count": 80,
   "id": "9cc166d8-3b9c-450e-91f9-48dfd53eb30c",
   "metadata": {},
   "outputs": [],
   "source": [
    "obj=orsvm.Model(kernel=\"Chebyshev\",order=3,T=0.3,form='r')"
   ]
  },
  {
   "cell_type": "code",
   "execution_count": null,
   "id": "c1a79900",
   "metadata": {},
   "outputs": [],
   "source": []
  },
  {
   "cell_type": "code",
   "execution_count": 81,
   "id": "f579bde7-719b-4db2-ac25-f6095b0d3fbf",
   "metadata": {},
   "outputs": [
    {
     "name": "stdout",
     "output_type": "stream",
     "text": [
      "********** 17/08/2022 15:32:51 **********\n",
      "** OSVM kernel: Chebyshev\n",
      "** Order: 3\n",
      "** Fractional mode, transition : 0.3\n",
      "** Avegage support vector determiner selected!\n",
      "** sv threshold: 10^ -121\n"
     ]
    }
   ],
   "source": [
    "Weights, SupportVectors, Bias, KernelInstance = obj.ModelFit(X_train,y_train)"
   ]
  },
  {
   "cell_type": "code",
   "execution_count": 82,
   "id": "e3f33034-f688-4eb2-95e1-0339e6a97ebf",
   "metadata": {},
   "outputs": [
    {
     "name": "stdout",
     "output_type": "stream",
     "text": [
      "** Accuracy score: 0.840625\n",
      "** Classification Report:\n",
      "               precision    recall  f1-score   support\n",
      "\n",
      "          -1       0.84      0.93      0.88       202\n",
      "           1       0.85      0.69      0.76       118\n",
      "\n",
      "    accuracy                           0.84       320\n",
      "   macro avg       0.84      0.81      0.82       320\n",
      "weighted avg       0.84      0.84      0.84       320\n",
      "\n",
      "** Confusion Matrix:\n",
      " [[187  15]\n",
      " [ 36  82]]\n"
     ]
    },
    {
     "data": {
      "text/plain": [
       "0.840625"
      ]
     },
     "execution_count": 82,
     "metadata": {},
     "output_type": "execute_result"
    }
   ],
   "source": [
    "obj.ModelPredict(X_test,y_test,Bias,KernelInstance)"
   ]
  },
  {
   "cell_type": "code",
   "execution_count": null,
   "id": "dcb0e65f-a6ba-4b58-bbb2-bf9a6a4047a6",
   "metadata": {},
   "outputs": [],
   "source": []
  },
  {
   "cell_type": "code",
   "execution_count": null,
   "id": "435e46da-9109-4291-a0d5-2c2d1df2414d",
   "metadata": {},
   "outputs": [],
   "source": []
  }
 ],
 "metadata": {
  "kernelspec": {
   "display_name": "Python 3 (ipykernel)",
   "language": "python",
   "name": "python3"
  },
  "language_info": {
   "codemirror_mode": {
    "name": "ipython",
    "version": 3
   },
   "file_extension": ".py",
   "mimetype": "text/x-python",
   "name": "python",
   "nbconvert_exporter": "python",
   "pygments_lexer": "ipython3",
   "version": "3.9.12"
  }
 },
 "nbformat": 4,
 "nbformat_minor": 5
}
